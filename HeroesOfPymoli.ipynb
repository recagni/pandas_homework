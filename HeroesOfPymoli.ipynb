{
 "cells": [
  {
   "cell_type": "code",
   "execution_count": 1270,
   "metadata": {
    "collapsed": true
   },
   "outputs": [],
   "source": [
    "                   # INITIAL IMPORTS AND UPLOADS\n",
    "\n",
    "import pandas as pd\n",
    "import os"
   ]
  },
  {
   "cell_type": "code",
   "execution_count": 1271,
   "metadata": {},
   "outputs": [],
   "source": [
    "# The path to our json file\n",
    "# Read data into pandas\n",
    "df1=pd.read_json(\"purchase_data.json\")\n",
    "# df1.head (10)"
   ]
  },
  {
   "cell_type": "code",
   "execution_count": 1272,
   "metadata": {},
   "outputs": [],
   "source": [
    "                    # HEROES OF PYMOLI DATA ANALYSIS\n",
    "    \n",
    "# Although the second data sample contains much fewer data points than the first one, most conclusions are similar.\n",
    "# For both samples, about 80% of the players are male and the average item is priced at around $3.\n",
    "# The larger sample indicates that the average spend per capita is about $4, vs. 3 of the second one. \n",
    "# Either way, this means that this population is a very long tail on one-item purchasers.\n",
    "# Even those players who purchased more than one items, didn't purchase more than ten.\n",
    "# Thus, for this particular population it is more important to address the needs of the many, as opposed to those \n",
    "# of the few top players.\n",
    "# Both files show that most of the revenue (improperly called profitability in the homework instructions) comes\n",
    "# from the 11 to 20 year old players, and particularly those aged between 15 and 20 years.\n",
    "# However, the larger sample indicates that all the age ranges up to 35 years should be addressed, as relevant sales\n",
    "# are made also in these ranges.\n",
    "# Similarly to the distribution of player purchases, the one for single item sales is also very much flat, with\n",
    "# the top five items, out of all the almost 200 sold, representing only 3% of total sales.\n",
    "# So, for items as well, the emphasis should be on improving all products, as opposed to try to perfect a few."
   ]
  },
  {
   "cell_type": "code",
   "execution_count": 1273,
   "metadata": {
    "collapsed": true
   },
   "outputs": [],
   "source": [
    "                    # CHECK FOR POSSIBLE DATA CLEANUP\n",
    "\n",
    "# Checking whether the dataframe needs to be cleaned and apparently in this case we don't need to\n",
    "# While testing, the two lines below should be commented in to conduct the test\n",
    "# print(\"Table below checks that the numbers of rows without NaN or null values is the same for all columns.\")\n",
    "# df1.count()"
   ]
  },
  {
   "cell_type": "code",
   "execution_count": 1274,
   "metadata": {},
   "outputs": [
    {
     "name": "stdout",
     "output_type": "stream",
     "text": [
      "PLAYER COUNT\n",
      "The total number of players was 573.\n"
     ]
    }
   ],
   "source": [
    "                    # PLAYER COUNT\n",
    "\n",
    "# Total Number of Players\n",
    "Players=len(df1[\"SN\"].value_counts())\n",
    "\n",
    "print(\"PLAYER COUNT\")\n",
    "print(\"The total number of players was \" + str(Players) + \".\")"
   ]
  },
  {
   "cell_type": "code",
   "execution_count": 1275,
   "metadata": {},
   "outputs": [
    {
     "name": "stdout",
     "output_type": "stream",
     "text": [
      "----------------------------------------------------------------------\n",
      "PURCHASING ANALYSIS (TOTAL)\n",
      "The number of unique items was 183.\n"
     ]
    }
   ],
   "source": [
    "                    # PURCHASING ANALYSIS (TOTAL)\n",
    "\n",
    "# Number of Unique Items\n",
    "uniqueItems=len(df1[\"Item ID\"].value_counts())\n",
    "\n",
    "print(\"----------------------------------------------------------------------\")\n",
    "print(\"PURCHASING ANALYSIS (TOTAL)\")\n",
    "print(\"The number of unique items was \" + str(uniqueItems) + \".\")"
   ]
  },
  {
   "cell_type": "code",
   "execution_count": 1276,
   "metadata": {},
   "outputs": [
    {
     "name": "stdout",
     "output_type": "stream",
     "text": [
      "The average purchase price was $2.93.\n"
     ]
    }
   ],
   "source": [
    "# Average Purchase Price\n",
    "avgPrice=round(df1[\"Price\"].mean(),2)\n",
    "print(\"The average purchase price was $\" + str(avgPrice) + \".\")"
   ]
  },
  {
   "cell_type": "code",
   "execution_count": 1277,
   "metadata": {},
   "outputs": [
    {
     "name": "stdout",
     "output_type": "stream",
     "text": [
      "The total number of purchases was 780.\n"
     ]
    }
   ],
   "source": [
    "# Total Number of Purchases\n",
    "# The count is made on screen names (SN) because they are not unique\n",
    "Transactions=df1[\"SN\"].count()\n",
    "print(\"The total number of purchases was \" + str(Transactions) + \".\")"
   ]
  },
  {
   "cell_type": "code",
   "execution_count": 1278,
   "metadata": {},
   "outputs": [
    {
     "name": "stdout",
     "output_type": "stream",
     "text": [
      "The total revenue was $2286.33.\n"
     ]
    }
   ],
   "source": [
    "# Total Revenue\n",
    "Revenue=round(df1[\"Price\"].sum(),2)\n",
    "print(\"The total revenue was $\" + str(Revenue) + \".\")"
   ]
  },
  {
   "cell_type": "code",
   "execution_count": 1279,
   "metadata": {},
   "outputs": [
    {
     "name": "stdout",
     "output_type": "stream",
     "text": [
      "----------------------------------------------------------------------\n",
      "GENDER DEMOGRAPHICS\n",
      "There were 465 male, 100 female, and 8 other (non-disclosed) players.\n",
      "They were  81.15 %, 17.45 %, and 1.4000000000000001 % of total players, respectively.\n"
     ]
    }
   ],
   "source": [
    "                    # GENDER DEMOGRAPHICS\n",
    "\n",
    "# First we need to drop player duplicates, by removing duplications from the \"SN\" column of the dataframe.\n",
    "# \"Last\" in the formula means that we are keeping only the last element of those duplicated in that column.\n",
    "player_df = df1.drop_duplicates(['SN'], keep ='last')\n",
    "\n",
    "# Determine the number of male, female, and other players\n",
    "malePlayer_df=player_df.loc[player_df[\"Gender\"]==\"Male\"]\n",
    "malePlayers=len(malePlayer_df)\n",
    "femalePlayer_df=player_df.loc[player_df[\"Gender\"]==\"Female\"]\n",
    "femalePlayers=len(femalePlayer_df)\n",
    "otherPlayer_df=player_df.loc[player_df[\"Gender\"]==\"Other / Non-Disclosed\"]\n",
    "otherPlayers=len(otherPlayer_df)\n",
    "\n",
    "print(\"----------------------------------------------------------------------\")\n",
    "print(\"GENDER DEMOGRAPHICS\")\n",
    "print(\"There were\",malePlayers,\"male,\",femalePlayers,\"female, and\",otherPlayers,\"other (non-disclosed) players.\")\n",
    "print(\"They were \",str(100*round(malePlayers/Players,4)),\"%,\",str(100*round(femalePlayers/Players,4)),\"%, and\",\n",
    "      str(100*round(otherPlayers/Players,4)),\"% of total players, respectively.\")"
   ]
  },
  {
   "cell_type": "code",
   "execution_count": 1280,
   "metadata": {},
   "outputs": [
    {
     "name": "stdout",
     "output_type": "stream",
     "text": [
      "----------------------------------------------------------------------\n",
      "PURCHASING ANALYSIS (GENDER)\n",
      "The total purchases made by male players were 633.\n"
     ]
    }
   ],
   "source": [
    "                    # PURCHASING ANALYSIS (GENDER)\n",
    "\n",
    "# Purchase Count by Gender\n",
    "# Needs to separate the dataframe across genders\n",
    "# The obtained object can be visualized only by counting or adding, etc. its elements.\n",
    "# Count how many purchases have occured within each gender\n",
    "\n",
    "# Male purchases first\n",
    "male_df=df1.loc[df1[\"Gender\"]==\"Male\"]\n",
    "malePurchCount=male_df[\"Item ID\"].count()\n",
    "\n",
    "print(\"----------------------------------------------------------------------\")\n",
    "print(\"PURCHASING ANALYSIS (GENDER)\")\n",
    "print(\"The total purchases made by male players were \" + str(malePurchCount) + \".\")"
   ]
  },
  {
   "cell_type": "code",
   "execution_count": 1281,
   "metadata": {},
   "outputs": [
    {
     "name": "stdout",
     "output_type": "stream",
     "text": [
      "The total purchases made by female players were 136.\n"
     ]
    }
   ],
   "source": [
    "# Female purchases\n",
    "female_df=df1.loc[df1[\"Gender\"]==\"Female\"]\n",
    "femalePurchCount=female_df[\"Item ID\"].count()\n",
    "print(\"The total purchases made by female players were \" + str(femalePurchCount) + \".\")"
   ]
  },
  {
   "cell_type": "code",
   "execution_count": 1282,
   "metadata": {},
   "outputs": [
    {
     "name": "stdout",
     "output_type": "stream",
     "text": [
      "The total purchases made by other players were 11.\n"
     ]
    }
   ],
   "source": [
    "# Other purchases\n",
    "other_df=df1.loc[df1[\"Gender\"]==\"Other / Non-Disclosed\"]\n",
    "otherPurchCount=other_df[\"Item ID\"].count()\n",
    "print(\"The total purchases made by other players were \" + str(otherPurchCount) + \".\")"
   ]
  },
  {
   "cell_type": "code",
   "execution_count": 1283,
   "metadata": {},
   "outputs": [
    {
     "name": "stdout",
     "output_type": "stream",
     "text": [
      "The average purchase price for male customers was $2.95.\n"
     ]
    }
   ],
   "source": [
    "# Average Male Purchase Price by Gender\n",
    "male_df=df1.loc[df1[\"Gender\"]==\"Male\"]\n",
    "maleAvgPrice=round(male_df[\"Price\"].mean(),2)\n",
    "print(\"The average purchase price for male customers was $\" + str(maleAvgPrice) + \".\")"
   ]
  },
  {
   "cell_type": "code",
   "execution_count": 1284,
   "metadata": {},
   "outputs": [
    {
     "name": "stdout",
     "output_type": "stream",
     "text": [
      "The average purchase price for female customers was $2.82.\n"
     ]
    }
   ],
   "source": [
    "# Average Female Purchase Price by Gender\n",
    "female_df=df1.loc[df1[\"Gender\"]==\"Female\"]\n",
    "femaleAvgPrice=round(female_df[\"Price\"].mean(),2)\n",
    "print(\"The average purchase price for female customers was $\" + str(femaleAvgPrice) + \".\")"
   ]
  },
  {
   "cell_type": "code",
   "execution_count": 1285,
   "metadata": {},
   "outputs": [
    {
     "name": "stdout",
     "output_type": "stream",
     "text": [
      "The average purchase price for other customers was $3.25.\n"
     ]
    }
   ],
   "source": [
    "# Average Other Purchase Price by Gender\n",
    "other_df=df1.loc[df1[\"Gender\"]==\"Other / Non-Disclosed\"]\n",
    "otherAvgPrice=round(other_df[\"Price\"].mean(),2)\n",
    "print(\"The average purchase price for other customers was $\" + str(otherAvgPrice) + \".\")"
   ]
  },
  {
   "cell_type": "code",
   "execution_count": 1286,
   "metadata": {},
   "outputs": [
    {
     "name": "stdout",
     "output_type": "stream",
     "text": [
      "The total value purchased by male customers was $1867.68.\n"
     ]
    }
   ],
   "source": [
    "# Total Purchase Value by Gender\n",
    "\n",
    "# For males\n",
    "maleTotPrice=round(male_df[\"Price\"].sum(),2)\n",
    "print(\"The total value purchased by male customers was $\" + str(maleTotPrice) + \".\")"
   ]
  },
  {
   "cell_type": "code",
   "execution_count": 1287,
   "metadata": {},
   "outputs": [
    {
     "name": "stdout",
     "output_type": "stream",
     "text": [
      "The total value purchased by female customers was $382.91.\n"
     ]
    }
   ],
   "source": [
    "# For females\n",
    "femaleTotPrice=round(female_df[\"Price\"].sum(),2)\n",
    "print(\"The total value purchased by female customers was $\" + str(femaleTotPrice) + \".\")"
   ]
  },
  {
   "cell_type": "code",
   "execution_count": 1288,
   "metadata": {},
   "outputs": [
    {
     "name": "stdout",
     "output_type": "stream",
     "text": [
      "The total value purchased by other customers was $35.74.\n"
     ]
    }
   ],
   "source": [
    "# For others\n",
    "otherTotPrice=round(other_df[\"Price\"].sum(),2)\n",
    "print(\"The total value purchased by other customers was $\" + str(otherTotPrice) + \".\")"
   ]
  },
  {
   "cell_type": "code",
   "execution_count": 1289,
   "metadata": {},
   "outputs": [
    {
     "name": "stdout",
     "output_type": "stream",
     "text": [
      "The average male players purchased a total of $4.02.\n"
     ]
    }
   ],
   "source": [
    "# Normalized Totals (normalizing for the number of people in each gender group)\n",
    "# Use normalized dataframe \"player_df\", created before\n",
    "\n",
    "# Male Normalized Totals\n",
    "malePlayer_df=player_df.loc[player_df[\"Gender\"]==\"Male\"]\n",
    "malePlayers=len(malePlayer_df)\n",
    "normMaleTotPrice=round(maleTotPrice/malePlayers,2)\n",
    "print(\"The average male players purchased a total of $\" + str(normMaleTotPrice) + \".\")"
   ]
  },
  {
   "cell_type": "code",
   "execution_count": 1290,
   "metadata": {},
   "outputs": [
    {
     "name": "stdout",
     "output_type": "stream",
     "text": [
      "The average female players purchased a total of $3.83.\n"
     ]
    }
   ],
   "source": [
    "# Female Normalized Totals\n",
    "\n",
    "femalePlayer_df=player_df.loc[player_df[\"Gender\"]==\"Female\"]\n",
    "femalePlayers=len(femalePlayer_df)\n",
    "normFemaleTotPrice=round(femaleTotPrice/femalePlayers,2)\n",
    "normFemaleTotPrice\n",
    "print(\"The average female players purchased a total of $\" + str(normFemaleTotPrice) + \".\")"
   ]
  },
  {
   "cell_type": "code",
   "execution_count": 1291,
   "metadata": {},
   "outputs": [
    {
     "name": "stdout",
     "output_type": "stream",
     "text": [
      "The average other players purchased a total of $4.47.\n"
     ]
    }
   ],
   "source": [
    "# Female Normalized Totals\n",
    "otherPlayer_df=player_df.loc[player_df[\"Gender\"]==\"Other / Non-Disclosed\"]\n",
    "otherPlayers=len(otherPlayer_df)\n",
    "normOtherTotPrice=round(otherTotPrice/otherPlayers,2)\n",
    "print(\"The average other players purchased a total of $\" + str(normOtherTotPrice) + \".\")"
   ]
  },
  {
   "cell_type": "code",
   "execution_count": 1292,
   "metadata": {},
   "outputs": [
    {
     "name": "stdout",
     "output_type": "stream",
     "text": [
      "----------------------------------------------------------------------\n",
      "AGE DEMOGRAPHICS\n",
      "The youngest player was  7  year old.\n"
     ]
    }
   ],
   "source": [
    "                    # AGE DEMOGRAPHICS\n",
    "\n",
    "# The items below each broken into bins of 4 years (i.e. <10, 10-14, 15-19, etc.)\n",
    "\n",
    "# Purchase Count\n",
    "# Average Purchase Price\n",
    "# Total Purchase Value\n",
    "# Normalized Totals (normalizing for the # of people in each age group)\n",
    "\n",
    "# First, evaluate appropriate bins\n",
    "minAge=df1[\"Age\"].min()\n",
    "\n",
    "print(\"----------------------------------------------------------------------\")\n",
    "print(\"AGE DEMOGRAPHICS\")\n",
    "print(\"The youngest player was \",str(minAge),\" year old.\")"
   ]
  },
  {
   "cell_type": "code",
   "execution_count": 1293,
   "metadata": {},
   "outputs": [
    {
     "name": "stdout",
     "output_type": "stream",
     "text": [
      "The oldest player was  45  year old.\n"
     ]
    }
   ],
   "source": [
    "maxAge=df1[\"Age\"].max()\n",
    "print(\"The oldest player was \",str(maxAge),\" year old.\")"
   ]
  },
  {
   "cell_type": "code",
   "execution_count": 1294,
   "metadata": {},
   "outputs": [
    {
     "name": "stderr",
     "output_type": "stream",
     "text": [
      "C:\\Users\\mrecagni\\AppData\\Local\\Continuum\\anaconda\\lib\\site-packages\\ipykernel_launcher.py:7: SettingWithCopyWarning: \n",
      "A value is trying to be set on a copy of a slice from a DataFrame.\n",
      "Try using .loc[row_indexer,col_indexer] = value instead\n",
      "\n",
      "See the caveats in the documentation: http://pandas.pydata.org/pandas-docs/stable/indexing.html#indexing-view-versus-copy\n",
      "  import sys\n"
     ]
    }
   ],
   "source": [
    "# So, perhaps the bins can be set like this:\n",
    "bins=[10,15,20,25,30,35,40,120]\n",
    "group_labels=[\"10 and younger\", \"11 to 15\", \"16 to 20\", \"21 to 25\", \"30 to 35\", \"35 to 40\", \"41 and older\"]\n",
    "\n",
    "# Add \"Age Range\" column to the both dataframes (with and without duplications)\n",
    "df1[\"Age Range\"]=pd.cut(df1[\"Age\"],bins,labels=group_labels)\n",
    "player_df[\"Age Range\"]=pd.cut(df1[\"Age\"],bins,labels=group_labels)"
   ]
  },
  {
   "cell_type": "code",
   "execution_count": 1295,
   "metadata": {
    "collapsed": true
   },
   "outputs": [],
   "source": [
    "# Group the dataframe df1 (the one with duplicated players) by the the values in its \"Age Range\" column\n",
    "obj1=df1.groupby(\"Age Range\")\n",
    "\n",
    "# Convert the groupby object into a dataframe\n",
    "\n",
    "# Purchase Count by Age Range\n",
    "# The count is made on screen names (SN) because they are not unique\n",
    "count_in_obj1=obj1[\"SN\"].count()\n",
    "count_table=pd.DataFrame({\"Purchase Count\":count_in_obj1})\n",
    "\n",
    "# Average Price by Age Range\n",
    "avgPrice_in_obj1=round(obj1[\"Price\"].mean(),2)\n",
    "avgPrice_table=pd.DataFrame({\"Average Price ($)\":avgPrice_in_obj1})\n",
    "\n",
    "# Purchase Value by Age Range\n",
    "totPrice_in_obj1=obj1[\"Price\"].sum()\n",
    "totPrice_table=pd.DataFrame({\"Purchase Value ($)\":totPrice_in_obj1})\n",
    "\n",
    "# Merge the three tables (each with only one column, besides the common Age Range column) into one\n",
    "age_df=pd.merge(count_table,avgPrice_table,left_index=True,right_index=True).merge(totPrice_table,left_index=True,\n",
    "            right_index=True)"
   ]
  },
  {
   "cell_type": "code",
   "execution_count": 1296,
   "metadata": {},
   "outputs": [
    {
     "data": {
      "text/html": [
       "<div>\n",
       "<style>\n",
       "    .dataframe thead tr:only-child th {\n",
       "        text-align: right;\n",
       "    }\n",
       "\n",
       "    .dataframe thead th {\n",
       "        text-align: left;\n",
       "    }\n",
       "\n",
       "    .dataframe tbody tr th {\n",
       "        vertical-align: top;\n",
       "    }\n",
       "</style>\n",
       "<table border=\"1\" class=\"dataframe\">\n",
       "  <thead>\n",
       "    <tr style=\"text-align: right;\">\n",
       "      <th></th>\n",
       "      <th>Purchase Count</th>\n",
       "      <th>Average Price ($)</th>\n",
       "      <th>Purchase Value ($)</th>\n",
       "      <th>Normalized Price ($)</th>\n",
       "    </tr>\n",
       "    <tr>\n",
       "      <th>Age Range</th>\n",
       "      <th></th>\n",
       "      <th></th>\n",
       "      <th></th>\n",
       "      <th></th>\n",
       "    </tr>\n",
       "  </thead>\n",
       "  <tbody>\n",
       "    <tr>\n",
       "      <th>10 and younger</th>\n",
       "      <td>78</td>\n",
       "      <td>2.87</td>\n",
       "      <td>224.15</td>\n",
       "      <td>2.84</td>\n",
       "    </tr>\n",
       "    <tr>\n",
       "      <th>11 to 15</th>\n",
       "      <td>184</td>\n",
       "      <td>2.87</td>\n",
       "      <td>528.74</td>\n",
       "      <td>2.86</td>\n",
       "    </tr>\n",
       "    <tr>\n",
       "      <th>16 to 20</th>\n",
       "      <td>305</td>\n",
       "      <td>2.96</td>\n",
       "      <td>902.61</td>\n",
       "      <td>2.90</td>\n",
       "    </tr>\n",
       "    <tr>\n",
       "      <th>21 to 25</th>\n",
       "      <td>76</td>\n",
       "      <td>2.89</td>\n",
       "      <td>219.82</td>\n",
       "      <td>2.90</td>\n",
       "    </tr>\n",
       "    <tr>\n",
       "      <th>30 to 35</th>\n",
       "      <td>58</td>\n",
       "      <td>3.07</td>\n",
       "      <td>178.26</td>\n",
       "      <td>2.99</td>\n",
       "    </tr>\n",
       "    <tr>\n",
       "      <th>35 to 40</th>\n",
       "      <td>44</td>\n",
       "      <td>2.90</td>\n",
       "      <td>127.49</td>\n",
       "      <td>2.74</td>\n",
       "    </tr>\n",
       "    <tr>\n",
       "      <th>41 and older</th>\n",
       "      <td>3</td>\n",
       "      <td>2.88</td>\n",
       "      <td>8.64</td>\n",
       "      <td>2.88</td>\n",
       "    </tr>\n",
       "  </tbody>\n",
       "</table>\n",
       "</div>"
      ],
      "text/plain": [
       "                Purchase Count  Average Price ($)  Purchase Value ($)  \\\n",
       "Age Range                                                               \n",
       "10 and younger              78               2.87              224.15   \n",
       "11 to 15                   184               2.87              528.74   \n",
       "16 to 20                   305               2.96              902.61   \n",
       "21 to 25                    76               2.89              219.82   \n",
       "30 to 35                    58               3.07              178.26   \n",
       "35 to 40                    44               2.90              127.49   \n",
       "41 and older                 3               2.88                8.64   \n",
       "\n",
       "                Normalized Price ($)  \n",
       "Age Range                             \n",
       "10 and younger                  2.84  \n",
       "11 to 15                        2.86  \n",
       "16 to 20                        2.90  \n",
       "21 to 25                        2.90  \n",
       "30 to 35                        2.99  \n",
       "35 to 40                        2.74  \n",
       "41 and older                    2.88  "
      ]
     },
     "execution_count": 1296,
     "metadata": {},
     "output_type": "execute_result"
    }
   ],
   "source": [
    "# Group the dataframe player_df (the one without duplicated players) by the the values in its \"Age Range\" column\n",
    "objAge=player_df.groupby(\"Age Range\")\n",
    "\n",
    "# Convert the non-duplicated groupby object into a dataframe\n",
    "\n",
    "# Purchase Count by Age Range and Player\n",
    "count_in_objAge=objAge[\"Age\"].count()\n",
    "player_count_table=pd.DataFrame({\"Purchase Count\":count_in_objAge})\n",
    "\n",
    "# Purchase Value by Age Range and Player\n",
    "totPrice_in_objAge=objAge[\"Price\"].sum()\n",
    "player_totPrice_table=pd.DataFrame({\"Purchase Value ($)\":totPrice_in_objAge})\n",
    "\n",
    "# Add Normalized Value by Age Range to the table that contains non-normalized information\n",
    "age_df[\"Normalized Price ($)\"]=round((player_totPrice_table[\"Purchase Value ($)\"]/\n",
    "                                             player_count_table[\"Purchase Count\"]),2)\n",
    "age_df"
   ]
  },
  {
   "cell_type": "code",
   "execution_count": 1297,
   "metadata": {},
   "outputs": [
    {
     "name": "stdout",
     "output_type": "stream",
     "text": [
      "----------------------------------------------------------------------\n",
      "TOP SPENDERS\n"
     ]
    },
    {
     "data": {
      "text/html": [
       "<div>\n",
       "<style>\n",
       "    .dataframe thead tr:only-child th {\n",
       "        text-align: right;\n",
       "    }\n",
       "\n",
       "    .dataframe thead th {\n",
       "        text-align: left;\n",
       "    }\n",
       "\n",
       "    .dataframe tbody tr th {\n",
       "        vertical-align: top;\n",
       "    }\n",
       "</style>\n",
       "<table border=\"1\" class=\"dataframe\">\n",
       "  <thead>\n",
       "    <tr style=\"text-align: right;\">\n",
       "      <th></th>\n",
       "      <th>Purchase Count</th>\n",
       "      <th>Average Price ($)</th>\n",
       "      <th>Total Purchase Value ($)</th>\n",
       "    </tr>\n",
       "    <tr>\n",
       "      <th>SN</th>\n",
       "      <th></th>\n",
       "      <th></th>\n",
       "      <th></th>\n",
       "    </tr>\n",
       "  </thead>\n",
       "  <tbody>\n",
       "    <tr>\n",
       "      <th>Undirrala66</th>\n",
       "      <td>5</td>\n",
       "      <td>3.41</td>\n",
       "      <td>17.06</td>\n",
       "    </tr>\n",
       "    <tr>\n",
       "      <th>Saedue76</th>\n",
       "      <td>4</td>\n",
       "      <td>3.39</td>\n",
       "      <td>13.56</td>\n",
       "    </tr>\n",
       "    <tr>\n",
       "      <th>Mindimnya67</th>\n",
       "      <td>4</td>\n",
       "      <td>3.18</td>\n",
       "      <td>12.74</td>\n",
       "    </tr>\n",
       "    <tr>\n",
       "      <th>Haellysu29</th>\n",
       "      <td>3</td>\n",
       "      <td>4.24</td>\n",
       "      <td>12.73</td>\n",
       "    </tr>\n",
       "    <tr>\n",
       "      <th>Eoda93</th>\n",
       "      <td>3</td>\n",
       "      <td>3.86</td>\n",
       "      <td>11.58</td>\n",
       "    </tr>\n",
       "  </tbody>\n",
       "</table>\n",
       "</div>"
      ],
      "text/plain": [
       "             Purchase Count  Average Price ($)  Total Purchase Value ($)\n",
       "SN                                                                      \n",
       "Undirrala66               5               3.41                     17.06\n",
       "Saedue76                  4               3.39                     13.56\n",
       "Mindimnya67               4               3.18                     12.74\n",
       "Haellysu29                3               4.24                     12.73\n",
       "Eoda93                    3               3.86                     11.58"
      ]
     },
     "execution_count": 1297,
     "metadata": {},
     "output_type": "execute_result"
    }
   ],
   "source": [
    "                      # TOP SPENDERS\n",
    "    \n",
    "# Identify the the top 5 spenders in the game by total purchase value, then list (in a table):\n",
    "    # SN\n",
    "    # Purchase Count\n",
    "    # Average Purchase Price\n",
    "    # Total Purchase Value\n",
    "    \n",
    "# Group the dataframe player_df (the one with duplicated players, because we need to sum all of the values\n",
    "# for each player) by the the values in its \"SN\" (screen name) column\n",
    "objSN=df1.groupby(\"SN\")\n",
    "\n",
    "# Convert the non-duplicated groupby object into a dataframe\n",
    "\n",
    "# Purchase Count by Player\n",
    "count_in_objSN=objSN[\"Age\"].count()\n",
    "SN_count_table=pd.DataFrame({\"Purchase Count\":count_in_objSN})\n",
    "\n",
    "# Average Price by Player\n",
    "avgPrice_in_objSN=round(objSN[\"Price\"].mean(),2)\n",
    "SN_avgPrice_table=pd.DataFrame({\"Average Price ($)\":avgPrice_in_objSN})\n",
    "\n",
    "# Purchase Price by Player\n",
    "totPrice_in_objSN=objSN[\"Price\"].sum()\n",
    "SN_totPrice_table=pd.DataFrame({\"Total Purchase Value ($)\":totPrice_in_objSN})\n",
    "                            \n",
    "# Merge the three tables (each with only one column, besides the common SN column) into one\n",
    "SN_df=pd.merge(SN_count_table,SN_avgPrice_table,left_index=True,right_index=True).merge(\n",
    "    SN_totPrice_table,left_index=True,right_index=True)\n",
    "\n",
    "# Sort the just created table by the total purchases made by the players, then show only the top five\n",
    "\n",
    "sorted_SN=SN_df.sort_values(by=\"Total Purchase Value ($)\",ascending=False)\n",
    "\n",
    "print(\"----------------------------------------------------------------------\")\n",
    "print(\"TOP SPENDERS\")\n",
    "sorted_SN.head()"
   ]
  },
  {
   "cell_type": "code",
   "execution_count": 1298,
   "metadata": {},
   "outputs": [
    {
     "name": "stdout",
     "output_type": "stream",
     "text": [
      "----------------------------------------------------------------------\n",
      "MOST POPULAR ITEMS\n"
     ]
    },
    {
     "data": {
      "text/html": [
       "<div>\n",
       "<style>\n",
       "    .dataframe thead tr:only-child th {\n",
       "        text-align: right;\n",
       "    }\n",
       "\n",
       "    .dataframe thead th {\n",
       "        text-align: left;\n",
       "    }\n",
       "\n",
       "    .dataframe tbody tr th {\n",
       "        vertical-align: top;\n",
       "    }\n",
       "</style>\n",
       "<table border=\"1\" class=\"dataframe\">\n",
       "  <thead>\n",
       "    <tr style=\"text-align: right;\">\n",
       "      <th></th>\n",
       "      <th>Item Name</th>\n",
       "      <th>Purchase Count</th>\n",
       "      <th>Item Price ($)</th>\n",
       "      <th>Item Total Sales ($)</th>\n",
       "    </tr>\n",
       "    <tr>\n",
       "      <th>Item ID</th>\n",
       "      <th></th>\n",
       "      <th></th>\n",
       "      <th></th>\n",
       "      <th></th>\n",
       "    </tr>\n",
       "  </thead>\n",
       "  <tbody>\n",
       "    <tr>\n",
       "      <th>0</th>\n",
       "      <td>Splinter</td>\n",
       "      <td>5</td>\n",
       "      <td>4.83</td>\n",
       "      <td>24.15</td>\n",
       "    </tr>\n",
       "    <tr>\n",
       "      <th>28</th>\n",
       "      <td>Flux, Destroyer of Due Diligence</td>\n",
       "      <td>4</td>\n",
       "      <td>1.27</td>\n",
       "      <td>5.08</td>\n",
       "    </tr>\n",
       "    <tr>\n",
       "      <th>126</th>\n",
       "      <td>Exiled Mithril Longsword</td>\n",
       "      <td>4</td>\n",
       "      <td>1.55</td>\n",
       "      <td>6.20</td>\n",
       "    </tr>\n",
       "    <tr>\n",
       "      <th>155</th>\n",
       "      <td>War-Forged Gold Deflector</td>\n",
       "      <td>4</td>\n",
       "      <td>4.89</td>\n",
       "      <td>19.56</td>\n",
       "    </tr>\n",
       "    <tr>\n",
       "      <th>59</th>\n",
       "      <td>Lightning, Etcher of the King</td>\n",
       "      <td>3</td>\n",
       "      <td>3.47</td>\n",
       "      <td>10.41</td>\n",
       "    </tr>\n",
       "  </tbody>\n",
       "</table>\n",
       "</div>"
      ],
      "text/plain": [
       "                                Item Name  Purchase Count  Item Price ($)  \\\n",
       "Item ID                                                                     \n",
       "0                                Splinter               5            4.83   \n",
       "28       Flux, Destroyer of Due Diligence               4            1.27   \n",
       "126              Exiled Mithril Longsword               4            1.55   \n",
       "155             War-Forged Gold Deflector               4            4.89   \n",
       "59          Lightning, Etcher of the King               3            3.47   \n",
       "\n",
       "         Item Total Sales ($)  \n",
       "Item ID                        \n",
       "0                       24.15  \n",
       "28                       5.08  \n",
       "126                      6.20  \n",
       "155                     19.56  \n",
       "59                      10.41  "
      ]
     },
     "execution_count": 1298,
     "metadata": {},
     "output_type": "execute_result"
    }
   ],
   "source": [
    "                        # MOST POPULAR ITEMS\n",
    "    \n",
    "# Identify the 5 most popular items by purchase count, then list (in a table):\n",
    "    # Item ID\n",
    "    # Item Name\n",
    "    # Purchase Count\n",
    "    # Item Price\n",
    "    # Total Purchase Value\n",
    "    \n",
    "# Group the dataframe player_df (the one with duplicated players, because we are focused on the items, not on \n",
    "# the players) by the the values in its \"Item ID\" column\n",
    "objID=df1.groupby(\"Item ID\")\n",
    "\n",
    "# Convert the groupby object into a dataframe\n",
    "\n",
    "# Purchase Count by Item\n",
    "count_in_objID=objID[\"Item ID\"].count()\n",
    "ID_count_table=pd.DataFrame({\"Purchase Count\":count_in_objID})\n",
    "\n",
    "# Average Price by Item\n",
    "avgPrice_in_objID=round(objID[\"Price\"].mean(),2)\n",
    "ID_avgPrice_table=pd.DataFrame({\"Item Price ($)\":avgPrice_in_objID})\n",
    "\n",
    "# Purchase Price by Item\n",
    "totPrice_in_objID=objID[\"Price\"].sum()\n",
    "ID_totPrice_table=pd.DataFrame({\"Item Total Sales ($)\":totPrice_in_objID})\n",
    "\n",
    "# Now we need to drop ID item duplicates, by removing duplications from the \"Item ID\" column of the dataframe.\n",
    "# \"Last\" in the formula means that we are keeping only the last element of those duplicated in that column.\n",
    "singleID_df = df1.drop_duplicates(['Item ID'], keep ='last')\n",
    "\n",
    "# From the dataframe just created, derive a dataframe containing only the columns \"Item ID\" and \"Item Name\"\n",
    "reduced_singleID_df=singleID_df.loc[:,[\"Item ID\",\"Item Name\"]]\n",
    "\n",
    "# Merge the four columns (Item ID, Item Name, Purchase Count, Item Price, and Item Total Sales) into one table\n",
    "ID_df=pd.merge(reduced_singleID_df,ID_count_table,left_index=True,right_index=True).merge(ID_avgPrice_table,\n",
    "               left_index=True,right_index=True).merge(ID_totPrice_table,left_index=True,right_index=True)\n",
    "\n",
    "# Make the Item ID column the index in a newly created dataframe\n",
    "indexed_ID_df=ID_df.set_index(\"Item ID\")\n",
    "\n",
    "# Sort this final dataframe by the most popular items by the players, then show only the top five\n",
    "sorted_ID=indexed_ID_df.sort_values(by=\"Purchase Count\",ascending=False)\n",
    "\n",
    "print(\"----------------------------------------------------------------------\")\n",
    "print(\"MOST POPULAR ITEMS\")\n",
    "sorted_ID.head()"
   ]
  },
  {
   "cell_type": "code",
   "execution_count": 1299,
   "metadata": {},
   "outputs": [
    {
     "name": "stdout",
     "output_type": "stream",
     "text": [
      "----------------------------------------------------------------------\n",
      "MOST PROFITABLE ITEMS\n"
     ]
    },
    {
     "data": {
      "text/html": [
       "<div>\n",
       "<style>\n",
       "    .dataframe thead tr:only-child th {\n",
       "        text-align: right;\n",
       "    }\n",
       "\n",
       "    .dataframe thead th {\n",
       "        text-align: left;\n",
       "    }\n",
       "\n",
       "    .dataframe tbody tr th {\n",
       "        vertical-align: top;\n",
       "    }\n",
       "</style>\n",
       "<table border=\"1\" class=\"dataframe\">\n",
       "  <thead>\n",
       "    <tr style=\"text-align: right;\">\n",
       "      <th></th>\n",
       "      <th>Item Name</th>\n",
       "      <th>Purchase Count</th>\n",
       "      <th>Item Price ($)</th>\n",
       "      <th>Item Total Sales ($)</th>\n",
       "    </tr>\n",
       "    <tr>\n",
       "      <th>Item ID</th>\n",
       "      <th></th>\n",
       "      <th></th>\n",
       "      <th></th>\n",
       "      <th></th>\n",
       "    </tr>\n",
       "  </thead>\n",
       "  <tbody>\n",
       "    <tr>\n",
       "      <th>0</th>\n",
       "      <td>Splinter</td>\n",
       "      <td>5</td>\n",
       "      <td>4.83</td>\n",
       "      <td>24.15</td>\n",
       "    </tr>\n",
       "    <tr>\n",
       "      <th>155</th>\n",
       "      <td>War-Forged Gold Deflector</td>\n",
       "      <td>4</td>\n",
       "      <td>4.89</td>\n",
       "      <td>19.56</td>\n",
       "    </tr>\n",
       "    <tr>\n",
       "      <th>59</th>\n",
       "      <td>Lightning, Etcher of the King</td>\n",
       "      <td>3</td>\n",
       "      <td>3.47</td>\n",
       "      <td>10.41</td>\n",
       "    </tr>\n",
       "    <tr>\n",
       "      <th>3</th>\n",
       "      <td>Phantomlight</td>\n",
       "      <td>3</td>\n",
       "      <td>3.27</td>\n",
       "      <td>9.81</td>\n",
       "    </tr>\n",
       "    <tr>\n",
       "      <th>132</th>\n",
       "      <td>Persuasion</td>\n",
       "      <td>2</td>\n",
       "      <td>4.10</td>\n",
       "      <td>8.20</td>\n",
       "    </tr>\n",
       "  </tbody>\n",
       "</table>\n",
       "</div>"
      ],
      "text/plain": [
       "                             Item Name  Purchase Count  Item Price ($)  \\\n",
       "Item ID                                                                  \n",
       "0                             Splinter               5            4.83   \n",
       "155          War-Forged Gold Deflector               4            4.89   \n",
       "59       Lightning, Etcher of the King               3            3.47   \n",
       "3                         Phantomlight               3            3.27   \n",
       "132                         Persuasion               2            4.10   \n",
       "\n",
       "         Item Total Sales ($)  \n",
       "Item ID                        \n",
       "0                       24.15  \n",
       "155                     19.56  \n",
       "59                      10.41  \n",
       "3                        9.81  \n",
       "132                      8.20  "
      ]
     },
     "execution_count": 1299,
     "metadata": {},
     "output_type": "execute_result"
    }
   ],
   "source": [
    "                        # MOST PROFITABLE ITEMS\n",
    "    \n",
    "# Identify the 5 most popular items by purchase value, then list (in a table):\n",
    "    # Item ID\n",
    "    # Item Name\n",
    "    # Purchase Count\n",
    "    # Item Price\n",
    "    # Total Purchase Value\n",
    "\n",
    "# Sort the final dataframe of the previous section by the total purchases made by the players, then show only the \n",
    "# top five \n",
    "sorted_ID=indexed_ID_df.sort_values(by=\"Item Total Sales ($)\",ascending=False)\n",
    "\n",
    "print(\"----------------------------------------------------------------------\")\n",
    "print(\"MOST PROFITABLE ITEMS\")\n",
    "sorted_ID.head()"
   ]
  }
 ],
 "metadata": {
  "kernelspec": {
   "display_name": "Python 3",
   "language": "python",
   "name": "python3"
  },
  "language_info": {
   "codemirror_mode": {
    "name": "ipython",
    "version": 3
   },
   "file_extension": ".py",
   "mimetype": "text/x-python",
   "name": "python",
   "nbconvert_exporter": "python",
   "pygments_lexer": "ipython3",
   "version": "3.6.3"
  }
 },
 "nbformat": 4,
 "nbformat_minor": 2
}
